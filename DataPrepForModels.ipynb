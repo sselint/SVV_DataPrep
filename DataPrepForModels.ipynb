{
 "cells": [
  {
   "cell_type": "markdown",
   "id": "d3ed5d21",
   "metadata": {},
   "source": [
    "# RL Models Prep & Fitting"
   ]
  },
  {
   "cell_type": "markdown",
   "id": "0213d60c",
   "metadata": {},
   "source": [
    "## Load data and libraries"
   ]
  },
  {
   "cell_type": "code",
   "execution_count": 4,
   "id": "89ad60d6",
   "metadata": {},
   "outputs": [],
   "source": [
    "# Loading packages\n",
    "library(data.table)\n",
    "library(nloptr)\n",
    "library(ggplot2)\n",
    "library(reshape2)\n",
    "library(ggplot2)\n",
    "library(dplyr)\n",
    "library(Hmisc)\n",
    "library(tidyr)\n",
    "library(readr)\n",
    "library(dichromat)\n"
   ]
  },
  {
   "cell_type": "code",
   "execution_count": 1,
   "id": "4ec25b08",
   "metadata": {},
   "outputs": [
    {
     "data": {
      "text/html": [
       "'C:/Users/selin/OneDrive/Documents/GitHub/SelinProject_SVV/Jan26'"
      ],
      "text/latex": [
       "'C:/Users/selin/OneDrive/Documents/GitHub/SelinProject\\_SVV/Jan26'"
      ],
      "text/markdown": [
       "'C:/Users/selin/OneDrive/Documents/GitHub/SelinProject_SVV/Jan26'"
      ],
      "text/plain": [
       "[1] \"C:/Users/selin/OneDrive/Documents/GitHub/SelinProject_SVV/Jan26\""
      ]
     },
     "metadata": {},
     "output_type": "display_data"
    },
    {
     "data": {
      "text/html": [
       "192"
      ],
      "text/latex": [
       "192"
      ],
      "text/markdown": [
       "192"
      ],
      "text/plain": [
       "[1] 192"
      ]
     },
     "metadata": {},
     "output_type": "display_data"
    }
   ],
   "source": [
    "# Setting the wd\n",
    "setwd(\"C:/Users/selin/OneDrive/Documents/GitHub/SelinProject_SVV/Jan26\")\n",
    "getwd()\n",
    "mainDir <- getwd()\n",
    "\n",
    "# Load the complete/cleaned task data set\n",
    "PilotData <- read.csv(file = 'PilotData.csv', stringsAsFactors = TRUE)\n",
    "\n",
    "# Number of subjects (N = 192)\n",
    "nSubjects <- length(unique(PilotData$PID))\n",
    "SubjectIDs <- unique(PilotData$PID)\n",
    "length(SubjectIDs)\n",
    "\n",
    "# Variable names\n",
    "#names(PilotData)"
   ]
  },
  {
   "cell_type": "markdown",
   "id": "e9c9b116",
   "metadata": {},
   "source": [
    "## Prepare the data to fit the input format"
   ]
  },
  {
   "cell_type": "code",
   "execution_count": 3,
   "id": "0bd57926",
   "metadata": {},
   "outputs": [],
   "source": [
    "subDir <- \"ModelData\"\n",
    "base_par <- \"/data\"\n",
    "\n",
    "for (iPar in 1:nSubjects) {\n",
    "    \n",
    "  # load data\n",
    "  data_file <- paste0(mainDir,base_par,iPar,\".csv\")\n",
    "  data <- read.csv(data_file)\n",
    "  data <- data  %>% filter(TrialNo > 0)\n",
    "  # load the relevant trial sequence\n",
    "  for (i in 1:length(as.character(unique(data$Block_name)))){\n",
    "      block <- as.character(unique(data$Block_name)[i])\n",
    "      trial_seq_file <- paste0(mainDir, \"/\", block, \".csv\")\n",
    "      trial_seq <- read.csv(trial_seq_file)\n",
    "      trial_seq <- trial_seq  %>%  select(c(\"Block_name\", \"Magnitude_stim_ac\", \"Magnitude_stim_bd\"))\n",
    "      data$Magnitude_stim_ac[which(data$Block_name == as.character(unique(data$Block_name)[i]))] <- trial_seq$Magnitude_stim_ac\n",
    "      data$Magnitude_stim_bd[which(data$Block_name == as.character(unique(data$Block_name)[i]))] <- trial_seq$Magnitude_stim_bd\n",
    "      }\n",
    "  dir.create(file.path(mainDir, subDir))\n",
    "  setwd(file.path(mainDir, subDir))\n",
    "  write.csv(data, file = paste0(\"data_model\", iPar, \".csv\"))\n",
    "}\n"
   ]
  },
  {
   "cell_type": "code",
   "execution_count": 4,
   "id": "9e4586bc",
   "metadata": {},
   "outputs": [],
   "source": [
    "# Merge all the individual subject data into one file\n",
    "\n",
    "setwd(\"C:/Users/selin/OneDrive/Documents/GitHub/SelinProject_SVV/Jan26/ModelData\")\n",
    "TaskData <- plyr::ldply(list.files(), read.csv, header=TRUE)\n",
    "# TaskData\n",
    "names(TaskData)[1] <- \"TrialNumber\""
   ]
  },
  {
   "cell_type": "code",
   "execution_count": 5,
   "id": "ee13f0eb",
   "metadata": {},
   "outputs": [
    {
     "data": {
      "text/html": [
       "<ol class=list-inline>\n",
       "\t<li>'PID'</li>\n",
       "\t<li>'TrialNumber'</li>\n",
       "\t<li>'Optimal_stim'</li>\n",
       "\t<li>'correct_keyboard_response1'</li>\n",
       "\t<li>'response'</li>\n",
       "\t<li>'Magnitude_stim_ac'</li>\n",
       "\t<li>'Magnitude_stim_bd'</li>\n",
       "\t<li>'MagnitudeLost'</li>\n",
       "\t<li>'FeedbackShown'</li>\n",
       "\t<li>'Block_name'</li>\n",
       "</ol>\n"
      ],
      "text/latex": [
       "\\begin{enumerate*}\n",
       "\\item 'PID'\n",
       "\\item 'TrialNumber'\n",
       "\\item 'Optimal\\_stim'\n",
       "\\item 'correct\\_keyboard\\_response1'\n",
       "\\item 'response'\n",
       "\\item 'Magnitude\\_stim\\_ac'\n",
       "\\item 'Magnitude\\_stim\\_bd'\n",
       "\\item 'MagnitudeLost'\n",
       "\\item 'FeedbackShown'\n",
       "\\item 'Block\\_name'\n",
       "\\end{enumerate*}\n"
      ],
      "text/markdown": [
       "1. 'PID'\n",
       "2. 'TrialNumber'\n",
       "3. 'Optimal_stim'\n",
       "4. 'correct_keyboard_response1'\n",
       "5. 'response'\n",
       "6. 'Magnitude_stim_ac'\n",
       "7. 'Magnitude_stim_bd'\n",
       "8. 'MagnitudeLost'\n",
       "9. 'FeedbackShown'\n",
       "10. 'Block_name'\n",
       "\n",
       "\n"
      ],
      "text/plain": [
       " [1] \"PID\"                        \"TrialNumber\"               \n",
       " [3] \"Optimal_stim\"               \"correct_keyboard_response1\"\n",
       " [5] \"response\"                   \"Magnitude_stim_ac\"         \n",
       " [7] \"Magnitude_stim_bd\"          \"MagnitudeLost\"             \n",
       " [9] \"FeedbackShown\"              \"Block_name\"                "
      ]
     },
     "metadata": {},
     "output_type": "display_data"
    }
   ],
   "source": [
    "# Format the data set to fit the model input format\n",
    "# \"subject\", \"trialNumber\", \"chosenStimulus\" (1, 2), \"magnitudeStimulus1\", \"magnitudeStimulus2\", \"reward\",\n",
    "# \"outcome\" (0 - loss, 1 - no loss), blockSocial\", \"blockStable\"\n",
    "\n",
    "TaskData <- TaskData  %>% select(c(PID, TrialNumber, Optimal_stim, correct_keyboard_response1, response,\n",
    "                                   Magnitude_stim_ac, Magnitude_stim_bd, MagnitudeLost, FeedbackShown, Block_name))\n",
    "names(TaskData)\n"
   ]
  },
  {
   "cell_type": "code",
   "execution_count": 6,
   "id": "3b651ad4",
   "metadata": {},
   "outputs": [],
   "source": [
    "for (i in 1:nrow(TaskData)){\n",
    "    if ((TaskData$Optimal_stim[i] == \"stim_ac\") & (TaskData$response[i] != \"None\")){\n",
    "        if (TaskData$correct_keyboard_response1[i] == 1){\n",
    "            TaskData$chosenStimulus[i] <- 1\n",
    "        } else {\n",
    "            TaskData$chosenStimulus[i] <- 2\n",
    "        } \n",
    "    } else if ((TaskData$Optimal_stim[i] == \"stim_bd\") & (TaskData$response[i] != \"None\")){\n",
    "        if (TaskData$correct_keyboard_response1[i] == 1){\n",
    "            TaskData$chosenStimulus[i] <- 2\n",
    "        } else {\n",
    "            TaskData$chosenStimulus[i] <- 1\n",
    "        } \n",
    "    } else {\n",
    "        TaskData$chosenStimulus[i] <- NA\n",
    "    }\n",
    "}"
   ]
  },
  {
   "cell_type": "code",
   "execution_count": 7,
   "id": "a05187b1",
   "metadata": {},
   "outputs": [],
   "source": [
    "originalSubIDs <- c(as.character(unique(TaskData$PID)))\n",
    "newIDs <- c(1:length(originalSubIDs))\n",
    "IDs <- cbind(originalSubIDs, newIDs)\n",
    "write.csv(IDs, file = paste0(mainDir,\"/IDs.csv\"))"
   ]
  },
  {
   "cell_type": "code",
   "execution_count": 8,
   "id": "b6f421be",
   "metadata": {},
   "outputs": [],
   "source": [
    "colnames(IDs)[1] <- \"PID\"\n",
    "TaskData <- merge(TaskData, IDs, by = \"PID\")\n",
    "#TaskData"
   ]
  },
  {
   "cell_type": "code",
   "execution_count": 9,
   "id": "b2e27ce8",
   "metadata": {},
   "outputs": [],
   "source": [
    "stables <- c(\"Block_PS1\", \"Block_PS2\", \"Block_PS3\", \"Block_PS4\", \"Block_RS1\", \"Block_RS2\", \"Block_RS3\", \"Block_RS4\")\n",
    "socials <- c(\"Block_PS1\", \"Block_PS2\", \"Block_PS3\", \"Block_PS4\",\"Block_PV1\", \"Block_PV2\", \"Block_PV3\", \"Block_PV4\")\n",
    "\n",
    "TaskData <- TaskData  %>% mutate(blockSocial = ifelse(Block_name %in% socials, 1, 0))\n",
    "TaskData <- TaskData  %>% mutate(blockStable = ifelse(Block_name %in% stables, 1, 0))"
   ]
  },
  {
   "cell_type": "code",
   "execution_count": 10,
   "id": "d450f3e5",
   "metadata": {},
   "outputs": [],
   "source": [
    "# \"subject\", \"trialNumber\", \"chosenStimulus\" (1, 2), \"magnitudeStimulus1\", \"magnitudeStimulus2\", \"reward\",\n",
    "# \"outcome\" (0 - loss, 1 - no loss), blockSocial\", \"blockStable\"\n",
    "TaskData <- TaskData  %>% select(c(newIDs, TrialNumber, chosenStimulus, Magnitude_stim_ac, Magnitude_stim_bd, \n",
    "                                   MagnitudeLost,  FeedbackShown, blockSocial, blockStable))"
   ]
  },
  {
   "cell_type": "code",
   "execution_count": 11,
   "id": "d930dd9b",
   "metadata": {},
   "outputs": [],
   "source": [
    "colnames(TaskData) <- c(\"subject\", \"trialNumber\", \"chosenStimulus\", \"magnitudeStimulus1\", \"magnitudeStimulus2\",\n",
    "                        \"reward\", \"outcome\", \"blockSocial\", \"blockStable\")\n"
   ]
  },
  {
   "cell_type": "code",
   "execution_count": 12,
   "id": "dc807d86",
   "metadata": {},
   "outputs": [
    {
     "data": {
      "text/html": [
       "'character'"
      ],
      "text/latex": [
       "'character'"
      ],
      "text/markdown": [
       "'character'"
      ],
      "text/plain": [
       "[1] \"character\""
      ]
     },
     "metadata": {},
     "output_type": "display_data"
    }
   ],
   "source": [
    "TaskData$outcome <- as.character(TaskData$outcome)\n",
    "class(TaskData$outcome)"
   ]
  },
  {
   "cell_type": "code",
   "execution_count": 13,
   "id": "c333c614",
   "metadata": {},
   "outputs": [],
   "source": [
    "TaskData$outcome[which(TaskData$outcome == \"Positive\")] = 1\n",
    "TaskData$outcome[which(TaskData$outcome == \"Negative\")] = 0\n",
    "#TaskData"
   ]
  },
  {
   "cell_type": "code",
   "execution_count": 14,
   "id": "e8c6ad4e",
   "metadata": {},
   "outputs": [],
   "source": [
    "# Save the final data to be used as input in the models\n",
    "write.csv(TaskData, file = paste0(\"C:/Users/selin/OneDrive/Documents/GitHub/SelinProject_SVV/\",\"ModelInputData.csv\"))"
   ]
  }
 ],
 "metadata": {
  "kernelspec": {
   "display_name": "R",
   "language": "R",
   "name": "ir"
  },
  "language_info": {
   "codemirror_mode": "r",
   "file_extension": ".r",
   "mimetype": "text/x-r-source",
   "name": "R",
   "pygments_lexer": "r",
   "version": "3.6.1"
  }
 },
 "nbformat": 4,
 "nbformat_minor": 5
}
